{
 "cells": [
  {
   "cell_type": "markdown",
   "metadata": {},
   "source": [
    "日本語を用いたグラフを表示するために， `japanize-matplotlib` というライブラリをインストールします．下記の`!pip install japanize-matplotlib` と書かれたセルを一度実行することで， `japanize-matplotlib`をインストールすることができます．また，一度インストールが終了すると，2度目に本ノートブックや他の章のノートブックを実行する際はこのセルは実行する必要はなく， `import pandas as pd`と書かれたセルから実行することで日本語を用いたグラフを表示することができます．"
   ]
  },
  {
   "cell_type": "code",
   "execution_count": null,
   "metadata": {
    "scrolled": true
   },
   "outputs": [],
   "source": [
    "!pip install japanize-matplotlib"
   ]
  },
  {
   "cell_type": "markdown",
   "metadata": {},
   "source": [
    "# 2. データを要約すると何が見えてくる？"
   ]
  },
  {
   "cell_type": "code",
   "execution_count": null,
   "metadata": {
    "scrolled": true
   },
   "outputs": [],
   "source": [
    "import pandas as pd\n",
    "\n",
    "df = pd.read_csv(\"weather.csv\", index_col=\"日時\", encoding=\"Shift_JIS\")\n",
    "df"
   ]
  },
  {
   "cell_type": "code",
   "execution_count": null,
   "metadata": {
    "scrolled": true
   },
   "outputs": [],
   "source": [
    "print(f\"神戸の平均: {df['神戸'].mean():.1f} mm\")\n",
    "print(f\"神戸の中央値: {df['神戸'].median():.1f} mm\")"
   ]
  },
  {
   "cell_type": "code",
   "execution_count": null,
   "metadata": {},
   "outputs": [],
   "source": [
    "print(f\"屋久島の平均: {df['屋久島'].mean():.1f} mm\")\n",
    "print(f\"屋久島の中央値: {df['屋久島'].median():.1f} mm\")"
   ]
  },
  {
   "cell_type": "code",
   "execution_count": null,
   "metadata": {},
   "outputs": [],
   "source": [
    "print(f\"神戸の分散: {df['神戸'].var(ddof=0):.1f} mm^2\")\n",
    "print(f\"神戸の標準偏差: {df['神戸'].std(ddof=0):.1f} mm\")"
   ]
  },
  {
   "cell_type": "markdown",
   "metadata": {},
   "source": [
    "modified"
   ]
  },
  {
   "cell_type": "code",
   "execution_count": null,
   "metadata": {},
   "outputs": [],
   "source": [
    "print(f\"神戸の不偏分散: {df['神戸'].var():.1f} mm^2\")\n",
    "print(f\"神戸の標準偏差（不偏分散の平方根）: {df['神戸'].std():.1f} mm\")"
   ]
  },
  {
   "cell_type": "code",
   "execution_count": null,
   "metadata": {},
   "outputs": [],
   "source": [
    "print(f\"屋久島の分散: {df['屋久島'].var(ddof=0):.1f} mm^2\")\n",
    "print(f\"屋久島の標準偏差: {df['屋久島'].std(ddof=0):.1f} mm\")"
   ]
  },
  {
   "cell_type": "code",
   "execution_count": null,
   "metadata": {
    "scrolled": true
   },
   "outputs": [],
   "source": [
    "df.describe()"
   ]
  },
  {
   "cell_type": "code",
   "execution_count": null,
   "metadata": {},
   "outputs": [],
   "source": [
    "import matplotlib.pyplot as plt    \n",
    "import japanize_matplotlib "
   ]
  },
  {
   "cell_type": "code",
   "execution_count": null,
   "metadata": {},
   "outputs": [],
   "source": [
    "df.boxplot(whis='range')\n",
    "plt.show()"
   ]
  },
  {
   "cell_type": "code",
   "execution_count": null,
   "metadata": {},
   "outputs": [],
   "source": [
    "df.boxplot()\n",
    "plt.show()"
   ]
  }
 ],
 "metadata": {
  "kernelspec": {
   "display_name": "Python 3",
   "language": "python",
   "name": "python3"
  },
  "language_info": {
   "codemirror_mode": {
    "name": "ipython",
    "version": 3
   },
   "file_extension": ".py",
   "mimetype": "text/x-python",
   "name": "python",
   "nbconvert_exporter": "python",
   "pygments_lexer": "ipython3",
   "version": "3.7.0"
  },
  "toc": {
   "base_numbering": 1,
   "nav_menu": {},
   "number_sections": true,
   "sideBar": true,
   "skip_h1_title": false,
   "title_cell": "Table of Contents",
   "title_sidebar": "Contents",
   "toc_cell": false,
   "toc_position": {},
   "toc_section_display": true,
   "toc_window_display": false
  }
 },
 "nbformat": 4,
 "nbformat_minor": 2
}
