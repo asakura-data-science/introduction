{
 "cells": [
  {
   "cell_type": "markdown",
   "metadata": {},
   "source": [
    "# 6. より高度な分析3：食べ物の好みで都道府県を分類する"
   ]
  },
  {
   "cell_type": "code",
   "execution_count": null,
   "metadata": {
    "executionInfo": {
     "elapsed": 707,
     "status": "ok",
     "timestamp": 1611370026379,
     "user": {
      "displayName": "Takayuki Yumoto",
      "photoUrl": "",
      "userId": "00471202843242156872"
     },
     "user_tz": -540
    },
    "id": "oO_i4Pql0SMm"
   },
   "outputs": [],
   "source": [
    "import pandas as pd\n",
    "import numpy as np\n",
    "import matplotlib.pyplot as plt\n",
    "from sklearn.cluster import KMeans\n",
    "import seaborn as sns\n",
    "import japanize_matplotlib "
   ]
  },
  {
   "cell_type": "markdown",
   "metadata": {},
   "source": [
    "### データの読み込み"
   ]
  },
  {
   "cell_type": "code",
   "execution_count": null,
   "metadata": {
    "colab": {
     "base_uri": "https://localhost:8080/"
    },
    "executionInfo": {
     "elapsed": 693,
     "status": "ok",
     "timestamp": 1609816816891,
     "user": {
      "displayName": "Takayuki Yumoto",
      "photoUrl": "",
      "userId": "00471202843242156872"
     },
     "user_tz": -540
    },
    "id": "l3Sr05Tvx57H",
    "outputId": "925baceb-aa6e-46d6-b767-f07682555818"
   },
   "outputs": [],
   "source": [
    "df = pd.read_csv(\"meat.csv\", encoding=\"sjis\")\n",
    "df"
   ]
  },
  {
   "cell_type": "markdown",
   "metadata": {},
   "source": [
    "### コード6.1：k-means(k=3)"
   ]
  },
  {
   "cell_type": "code",
   "execution_count": null,
   "metadata": {
    "colab": {
     "base_uri": "https://localhost:8080/",
     "height": 857
    },
    "executionInfo": {
     "elapsed": 2855,
     "status": "ok",
     "timestamp": 1609816824786,
     "user": {
      "displayName": "Takayuki Yumoto",
      "photoUrl": "",
      "userId": "00471202843242156872"
     },
     "user_tz": -540
    },
    "id": "wU6_-wQJyPyI",
    "outputId": "bf9c002c-b2c1-47dd-8d4b-e5d52f6916b6"
   },
   "outputs": [],
   "source": [
    "X = df[[\"牛肉\", \"豚肉\", \"鶏肉\"]].values\n",
    "\n",
    "k = 3\n",
    "kmeans = KMeans(init=\"random\", n_clusters=k, random_state=24)\n",
    "kmeans.fit(X)\n",
    "y_pred = kmeans.predict(X)\n",
    "\n",
    "df[\"cluster\"] = y_pred\n",
    "df"
   ]
  },
  {
   "cell_type": "markdown",
   "metadata": {},
   "source": [
    "### 表6.1：k-meansによるクラスタリングの結果"
   ]
  },
  {
   "cell_type": "code",
   "execution_count": null,
   "metadata": {},
   "outputs": [],
   "source": [
    "for cluster in range(k):\n",
    "    print(f\"[cluster {cluster}]\")\n",
    "    for i, city in enumerate(df[df['cluster']==cluster]['市'], 1):\n",
    "        print(city, end=' ')\n",
    "        if i % 10 == 0:\n",
    "            print()\n",
    "    print(\"\\n\")"
   ]
  },
  {
   "cell_type": "markdown",
   "metadata": {},
   "source": [
    "### 図6.4～6：クラスタごとの牛肉，豚肉，鶏肉の購入量の比較"
   ]
  },
  {
   "cell_type": "code",
   "execution_count": null,
   "metadata": {},
   "outputs": [],
   "source": [
    "for meat in ['牛肉', '豚肉', '鶏肉']:\n",
    "    sns.boxplot(data=df, x='cluster', y=meat, whis=[0, 100], width=0.5)\n",
    "    plt.show()"
   ]
  },
  {
   "cell_type": "markdown",
   "metadata": {},
   "source": [
    "### コード6.2および図6.9：肉類の購入量データへのエルボー法の適用"
   ]
  },
  {
   "cell_type": "code",
   "execution_count": null,
   "metadata": {
    "colab": {
     "base_uri": "https://localhost:8080/",
     "height": 287
    },
    "executionInfo": {
     "elapsed": 1475,
     "status": "ok",
     "timestamp": 1609816839355,
     "user": {
      "displayName": "Takayuki Yumoto",
      "photoUrl": "",
      "userId": "00471202843242156872"
     },
     "user_tz": -540
    },
    "id": "eL2j-Tkv0qws",
    "outputId": "a21dc5a0-b1fb-451a-fc15-d2ff0023365c"
   },
   "outputs": [],
   "source": [
    "sse = []\n",
    "max_k = 10\n",
    "for k in range(1,max_k):\n",
    "    kmeans = KMeans(n_clusters=k, random_state=0)\n",
    "    kmeans.fit(X)\n",
    "    sse.append(kmeans.inertia_ / 1e8)  # 10^8で割る\n",
    "plt.plot(range(1, max_k), sse, marker='+')\n",
    "plt.xlabel(\"$k$\")\n",
    "plt.ylabel(r\"SSE $(\\times 10^8)$\")\n",
    "plt.show()"
   ]
  },
  {
   "cell_type": "markdown",
   "metadata": {},
   "source": [
    "### コード6.3および図6.11"
   ]
  },
  {
   "cell_type": "code",
   "execution_count": null,
   "metadata": {
    "colab": {
     "base_uri": "https://localhost:8080/",
     "height": 365
    },
    "executionInfo": {
     "elapsed": 1940,
     "status": "ok",
     "timestamp": 1594615991736,
     "user": {
      "displayName": "Takayuki Yumoto",
      "photoUrl": "",
      "userId": "00471202843242156872"
     },
     "user_tz": -540
    },
    "id": "Kp33ttep5u1b",
    "outputId": "2097d88a-b225-47c8-89b7-6dc54ee9be3b"
   },
   "outputs": [],
   "source": [
    "from scipy.cluster.hierarchy import dendrogram, linkage, fcluster\n",
    "from scipy.spatial.distance import pdist\n",
    "\n",
    "result = linkage(pdist(X, \"euclidean\"), \"ward\")\n",
    "figure = plt.figure(figsize=(12, 5))\n",
    "labels = [\"\\n\".join(city) for city in df[\"市\"]]\n",
    "dendrogram(result, labels=labels, leaf_font_size=14, leaf_rotation=0)\n",
    "plt.ylabel(\"距\\n離\", rotation=0, labelpad=10)\n",
    "plt.tight_layout()\n",
    "plt.show()"
   ]
  }
 ],
 "metadata": {
  "colab": {
   "collapsed_sections": [],
   "name": "clustering.ipynb",
   "provenance": []
  },
  "kernelspec": {
   "display_name": "Python 3",
   "language": "python",
   "name": "python3"
  },
  "language_info": {
   "codemirror_mode": {
    "name": "ipython",
    "version": 3
   },
   "file_extension": ".py",
   "mimetype": "text/x-python",
   "name": "python",
   "nbconvert_exporter": "python",
   "pygments_lexer": "ipython3",
   "version": "3.7.0"
  },
  "toc": {
   "base_numbering": 1,
   "nav_menu": {},
   "number_sections": true,
   "sideBar": true,
   "skip_h1_title": false,
   "title_cell": "Table of Contents",
   "title_sidebar": "Contents",
   "toc_cell": false,
   "toc_position": {},
   "toc_section_display": true,
   "toc_window_display": false
  }
 },
 "nbformat": 4,
 "nbformat_minor": 4
}
