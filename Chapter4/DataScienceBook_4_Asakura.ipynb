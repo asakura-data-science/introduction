{
 "cells": [
  {
   "cell_type": "markdown",
   "metadata": {},
   "source": [
    "# 4 より高度な分析1：日本人の米離れは本当か？"
   ]
  },
  {
   "cell_type": "markdown",
   "metadata": {},
   "source": [
    "<a class=\"anchor\" id=\"contents\"></a>\n",
    "### 目次\n",
    "- [4.1 オープンデータを使ってみよう](#section04-1)\n",
    " - [コード4.1 家計調査年報の読み込み](#code04-1)\n",
    "- [4.2 米の支出金額は減少しているのか？](#section04-2)\n",
    " - [a. 他項目と比較しないケース：米の支出金額の時系列分析](#section04-2a)\n",
    "   - [コード4.2 米の支出金額の要約統計量の出力](#code04-2)\n",
    "   - [コード4.3 米の支出金額の分布](#code04-3)\n",
    "   - [コード4.4 米の支出金額の経年変化のグラフ描画](#code04-4)\n",
    "   - [コード4.5 米の支出金額の変化率の計算](#code04-5)\n",
    " - [b. 他項目と比較を行うケース：米と他の項目との消費支出の傾向比較](#section04-2b)\n",
    "   - [コード4.6 食料と支出金額の集計処理](#code04-6)\n",
    "   - [コード4.7 穀類の支出金額の集計処理](#code04-7)\n",
    "   - [米と他項目との比較](#section04-2b_comp)\n",
    "     - [コード4.8 時系列データの基礎的な分析の関数化](#code04-8)\n",
    "     - [コード4.9 関数 analyze を使った基礎的な分析](#code04-9)\n",
    "     - [コード4.10 変化率を比較するグラフの描画](#code04-10)\n",
    "- [4.3 来年はどうなるの？](#section04-3)\n",
    " - [a. 移動平均法を用いた傾向の可視化](#section04-3a)\n",
    "   - [コード4.11 支出金額の移動平均の計算](#code04-11)\n",
    "   - [コード4.12 支出金額の変化率の移動平均の計算](#code04-12)\n",
    " - [b. 指数平滑法を用いた予測モデルの構築](#section04-3b)\n",
    "   - [コード4.13 指数平滑法による予測値を計算する関数](#code04-13)\n",
    "   - [コード4.14 係数αごとの予測誤差の合計値の計算](#code04-14)\n",
    "   - [コード4.15 次の年の支出金額の予測](#code04-15)"
   ]
  },
  {
   "cell_type": "markdown",
   "metadata": {},
   "source": [
    "<a class=\"anchor\" id=\"section04-1\"></a>\n",
    "### 4.1 オープンデータを使ってみよう"
   ]
  },
  {
   "cell_type": "markdown",
   "metadata": {},
   "source": [
    "<a class=\"anchor\" id=\"code04-1\"></a>\n",
    "#### コード4.1 家計調査年報データの読み込み"
   ]
  },
  {
   "cell_type": "code",
   "execution_count": null,
   "metadata": {},
   "outputs": [],
   "source": [
    "import pandas as pd  # 表形式のデータを扱うために pandas を使用する\n",
    "kakei = pd.read_csv(\"kakei.csv\", encoding=\"Shift_JIS\")  # 家計調査年報データを読み込む\n",
    "kakei.head(12)  # 読み込んだデータの先頭から12行を表示"
   ]
  },
  {
   "cell_type": "markdown",
   "metadata": {},
   "source": [
    "[目次へ戻る](#contents)\n",
    "\n",
    "---"
   ]
  },
  {
   "cell_type": "markdown",
   "metadata": {},
   "source": [
    "<a class=\"anchor\" id=\"section04-2\"></a>\n",
    "## 4.2 米の支出金額は減少しているのか？"
   ]
  },
  {
   "cell_type": "markdown",
   "metadata": {},
   "source": [
    "<a class=\"anchor\" id=\"section04-2a\"></a>\n",
    "**a. 他項目と比較しないケース：米の支出金額の時系列分析**"
   ]
  },
  {
   "cell_type": "markdown",
   "metadata": {},
   "source": [
    "<a class=\"anchor\" id=\"code04-2\"></a>\n",
    "#### コード4.2 米の支出金額の要約統計量の出力"
   ]
  },
  {
   "cell_type": "code",
   "execution_count": null,
   "metadata": {},
   "outputs": [],
   "source": [
    "import pandas as pd\n",
    "kakei = pd.read_csv(\"kakei.csv\", encoding=\"Shift_JIS\")\n",
    "\n",
    "# 米の支出金額の行を選択する\n",
    "rice = kakei[kakei[\"収支分類区分3\"] == \"米\"]\n",
    "#print(rice)  # 選択したデータの確認時はコメントアウトを外すこと\n",
    "\n",
    "# 要約統計量を出力する\n",
    "rice.loc[:, \"支出金額\"].describe()"
   ]
  },
  {
   "cell_type": "markdown",
   "metadata": {},
   "source": [
    "[目次へ戻る](#contents)"
   ]
  },
  {
   "cell_type": "markdown",
   "metadata": {},
   "source": [
    "<a class=\"anchor\" id=\"code04-3\"></a>\n",
    "#### コード4.3 米の支出金額の分布"
   ]
  },
  {
   "cell_type": "code",
   "execution_count": null,
   "metadata": {
    "scrolled": true
   },
   "outputs": [],
   "source": [
    "import matplotlib.pyplot as plt # グラフを作成するために matplotlib を使用する\n",
    "import japanize_matplotlib\n",
    "\n",
    "# データの分布として支出金額のヒストグラムを描画する\n",
    "plt.hist(rice[\"支出金額\"], bins=5, rwidth=0.9) # bins は分布のグループ数、rwidth は棒の横幅\n",
    "plt.title(\"米の支出金額のヒストグラム\")\n",
    "plt.xlabel(\"支出金額（円）\")\n",
    "plt.ylabel(\"度数\")\n",
    "plt.show()"
   ]
  },
  {
   "cell_type": "markdown",
   "metadata": {},
   "source": [
    "[目次へ戻る](#contents)"
   ]
  },
  {
   "cell_type": "markdown",
   "metadata": {},
   "source": [
    "<a class=\"anchor\" id=\"code04-4\"></a>\n",
    "#### コード4.4 米の支出金額の経年変化のグラフ描画"
   ]
  },
  {
   "cell_type": "code",
   "execution_count": null,
   "metadata": {
    "scrolled": true
   },
   "outputs": [],
   "source": [
    "plt.plot(rice[\"調査年\"], rice[\"支出金額\"], marker='o')\n",
    "plt.title(\"各年の米の支出金額\")\n",
    "plt.xlabel(\"年\")\n",
    "plt.ylabel(\"支出金額（円）\")\n",
    "y_max = max(rice[\"支出金額\"])\n",
    "plt.ylim(0, y_max * 1.1)\n",
    "plt.show()"
   ]
  },
  {
   "cell_type": "markdown",
   "metadata": {},
   "source": [
    "[目次へ戻る](#contents)"
   ]
  },
  {
   "cell_type": "markdown",
   "metadata": {},
   "source": [
    "<a class=\"anchor\" id=\"code04-5\"></a>\n",
    "#### コード4.5 米の支出金額の変化率の計算とグラフの描画"
   ]
  },
  {
   "cell_type": "code",
   "execution_count": null,
   "metadata": {},
   "outputs": [],
   "source": [
    "# 変化率の計算結果の表示\n",
    "print(rice[\"支出金額\"].pct_change())\n",
    "\n",
    "# 変化率のグラフを描画する\n",
    "plt.plot(rice[\"調査年\"], rice[\"支出金額\"].pct_change() * 100, marker='o')\n",
    "plt.title(\"各年の米の支出金額の変化率\")\n",
    "plt.xlabel(\"年\")\n",
    "plt.ylabel(\"支出金額の変化率（％）\")\n",
    "plt.axhline(0, color=\"black\")  # 変化率が 0 の位置に水平線を描画\n",
    "plt.show()"
   ]
  },
  {
   "cell_type": "markdown",
   "metadata": {},
   "source": [
    "[目次へ戻る](#contents)\n",
    "\n",
    "---"
   ]
  },
  {
   "cell_type": "markdown",
   "metadata": {},
   "source": [
    "<a class=\"anchor\" id=\"section04-2b\"></a>\n",
    "**b. 他項目と比較を行うケース：米と他の項目との支出金額の傾向比較**"
   ]
  },
  {
   "cell_type": "markdown",
   "metadata": {},
   "source": [
    "<a class=\"anchor\" id=\"code04-6\"></a>\n",
    "#### コード4.6 食料の支出金額の集計処理"
   ]
  },
  {
   "cell_type": "code",
   "execution_count": null,
   "metadata": {
    "scrolled": true
   },
   "outputs": [],
   "source": [
    "import pandas as pd\n",
    "kakei = pd.read_csv(\"kakei.csv\", encoding=\"shift_jis\")\n",
    "\n",
    "# 調査年ごとに収支分類区分1（食料）で支出金額を合計\n",
    "foods = kakei.groupby([\"収支分類区分1\", \"調査年\"], as_index=False).agg({\"支出金額\":sum})\n",
    "foods"
   ]
  },
  {
   "cell_type": "markdown",
   "metadata": {},
   "source": [
    "[目次へ戻る](#contents)"
   ]
  },
  {
   "cell_type": "markdown",
   "metadata": {},
   "source": [
    "<a class=\"anchor\" id=\"code04-7\"></a>\n",
    "#### コード4.7 穀類の支出金額の集計処理"
   ]
  },
  {
   "cell_type": "code",
   "execution_count": null,
   "metadata": {},
   "outputs": [],
   "source": [
    "# 穀類の行だけ選択して、調査年ごとに収支分類区分2で支出金額を合計\n",
    "cereals = kakei[kakei[\"収支分類区分2\"] == \"穀類\"]\n",
    "cereals = cereals.groupby([\"収支分類区分1\", \"収支分類区分2\", \"調査年\"], as_index=False).agg({\"支出金額\":sum})\n",
    "cereals"
   ]
  },
  {
   "cell_type": "markdown",
   "metadata": {},
   "source": [
    "[目次へ戻る](#contents)"
   ]
  },
  {
   "cell_type": "markdown",
   "metadata": {},
   "source": [
    "---"
   ]
  },
  {
   "cell_type": "markdown",
   "metadata": {},
   "source": [
    "<a class=\"anchor\" id=\"section04-2b_comp\"></a>\n",
    "**米と他項目との比較**"
   ]
  },
  {
   "cell_type": "markdown",
   "metadata": {},
   "source": [
    "<a class=\"anchor\" id=\"code04-8\"></a>\n",
    "#### コード4.8 時系列データの基礎的な分析の関数化"
   ]
  },
  {
   "cell_type": "code",
   "execution_count": null,
   "metadata": {},
   "outputs": [],
   "source": [
    "import pandas as pd\n",
    "import matplotlib.pyplot as plt\n",
    "import japanize_matplotlib\n",
    "\n",
    "def analyze(df, kubun_name):\n",
    "    \"\"\"\n",
    "    支出金額データを時系列分析する関数\n",
    "    df: 分析対象のデータ\n",
    "    kubun_name: 分析対象の支出分類区分の名前\n",
    "    \"\"\"\n",
    "    # 要約統計量\n",
    "    print(df[\"支出金額\"].describe())\n",
    "\n",
    "    # データの分布\n",
    "    plt.hist(df[\"支出金額\"], bins=5, rwidth=0.9)\n",
    "    plt.title(kubun_name + \"の支出金額のヒストグラム\")\n",
    "    plt.xlabel(\"支出金額（円）\")\n",
    "    plt.ylabel(\"度数\")\n",
    "    plt.show()\n",
    "\n",
    "    # 年ごとの支出金額\n",
    "    plt.plot(df[\"調査年\"], df[\"支出金額\"], marker='o')\n",
    "    plt.title(\"各年の\"+ kubun_name + \"の支出金額\")\n",
    "    plt.xlabel(\"年\")\n",
    "    plt.ylabel(kubun_name + \"の支出金額（円）\")\n",
    "    y_max = max(df[\"支出金額\"])\n",
    "    plt.ylim(0, y_max * 1.1)\n",
    "    plt.show()"
   ]
  },
  {
   "cell_type": "markdown",
   "metadata": {},
   "source": [
    "[目次へ戻る](#contents)"
   ]
  },
  {
   "cell_type": "markdown",
   "metadata": {},
   "source": [
    "<a class=\"anchor\" id=\"code04-9\"></a>\n",
    "#### コード4.9 関数 analyze を使った基礎的な分析"
   ]
  },
  {
   "cell_type": "code",
   "execution_count": null,
   "metadata": {},
   "outputs": [],
   "source": [
    "kakei = pd.read_csv(\"kakei.csv\", encoding=\"Shift_JIS\")\n",
    "\n",
    "# 食料の基礎的な分析\n",
    "foods = kakei.groupby([\"収支分類区分1\", \"調査年\"], as_index=False).agg({\"支出金額\":sum})\n",
    "analyze(foods, \"食料\")\n",
    "\n",
    "# 穀類の基礎的な分析\n",
    "cereals = kakei[kakei[\"収支分類区分2\"] == \"穀類\"]\n",
    "cereals = cereals.groupby([\"収支分類区分1\", \"収支分類区分2\", \"調査年\"], as_index=False).agg({\"支出金額\":sum})\n",
    "analyze(cereals, \"穀類\")\n",
    "\n",
    "# 米の基礎的な分析\n",
    "rice = kakei[kakei[\"収支分類区分3\"] == \"米\"]\n",
    "analyze(rice, \"米\")"
   ]
  },
  {
   "cell_type": "markdown",
   "metadata": {},
   "source": [
    "[目次へ戻る](#contents)"
   ]
  },
  {
   "cell_type": "markdown",
   "metadata": {},
   "source": [
    "<a class=\"anchor\" id=\"code04-10\"></a>\n",
    "#### コード4.10 変化率を比較するグラフの描画"
   ]
  },
  {
   "cell_type": "code",
   "execution_count": null,
   "metadata": {},
   "outputs": [],
   "source": [
    "# それぞれの変化率を折れ線グラフで表示する\n",
    "plt.plot(rice[\"調査年\"], rice[\"支出金額\"].pct_change() * 100, marker='o', label=\"米\")\n",
    "plt.plot(cereals[\"調査年\"], cereals[\"支出金額\"].pct_change() * 100, marker='o', label=\"穀類\")\n",
    "plt.plot(foods[\"調査年\"], foods[\"支出金額\"].pct_change() * 100, marker='o', label=\"食料\")\n",
    "plt.title(\"支出金額の変化率の比較\")\n",
    "plt.xlabel(\"年\")\n",
    "plt.ylabel(\"支出金額の変化率（％）\")\n",
    "plt.legend(bbox_to_anchor=(1, -0.1), loc='upper right')\n",
    "plt.axhline(0, color=\"black\")\n",
    "plt.show()\n",
    "\n",
    "# それぞれの平均変化率を求める\n",
    "mean_foods = foods[\"支出金額\"].pct_change().mean() * 100\n",
    "mean_cereals = cereals[\"支出金額\"].pct_change().mean() * 100\n",
    "mean_rice = rice[\"支出金額\"].pct_change().mean() * 100\n",
    "means = {\"米\":mean_rice, \"穀類\":mean_cereals, \"食料\":mean_foods}\n",
    "## 棒グラフで表示する\n",
    "plt.bar(x = means.keys(), height = means.values(), width = 0.7)\n",
    "plt.title(\"支出金額の平均変化率の比較\")\n",
    "plt.xlabel(\"収支分類区分\")\n",
    "plt.ylabel(\"支出金額の平均変化率（％）\")\n",
    "plt.axhline(0, color=\"black\")\n",
    "plt.show()"
   ]
  },
  {
   "cell_type": "markdown",
   "metadata": {},
   "source": [
    "[目次へ戻る](#contents)"
   ]
  },
  {
   "cell_type": "markdown",
   "metadata": {},
   "source": [
    "---"
   ]
  },
  {
   "cell_type": "markdown",
   "metadata": {},
   "source": [
    "<a class=\"anchor\" id=\"section04-3\"></a>\n",
    "### 4.3 来年はどうなるの？"
   ]
  },
  {
   "cell_type": "markdown",
   "metadata": {},
   "source": [
    "<a class=\"anchor\" id=\"section04-3a\"></a>\n",
    "**a. 移動平均法を用いた傾向の可視化**"
   ]
  },
  {
   "cell_type": "markdown",
   "metadata": {},
   "source": [
    "<a class=\"anchor\" id=\"code04-11\"></a>\n",
    "#### コード4.11 支出金額の移動平均の計算"
   ]
  },
  {
   "cell_type": "code",
   "execution_count": null,
   "metadata": {},
   "outputs": [],
   "source": [
    "import pandas as pd\n",
    "import matplotlib.pyplot as plt\n",
    "import japanize_matplotlib\n",
    "\n",
    "# 家計調査年報データを読み込む\n",
    "kakei = pd.read_csv(\"kakei.csv\", encoding=\"Shift_JIS\")\n",
    "\n",
    "# 米の支出金額のみを取り出す\n",
    "rice = kakei[kakei[\"収支分類区分3\"] == \"米\"]\n",
    "\n",
    "# 項数に応じて期間の中心の年の支出金額の移動平均を計算\n",
    "rice.index = rice[\"調査年\"]\n",
    "n = int(input(\"移動平均の項数を入力してください：\"))\n",
    "ma_rice = rice[\"支出金額\"].rolling(n, center=True).mean()\n",
    "print(ma_rice)\n",
    "\n",
    "# 年ごとの支出金額\n",
    "## 元データの描画設定\n",
    "plt.plot(rice.index, rice[\"支出金額\"], label=\"生データ\", marker='o')\n",
    "## 移動平均を求めたデータの描画設定\n",
    "plt.plot(ma_rice.index, ma_rice, label=\"移動平均\", marker='o')\n",
    "## グラフの要素設定\n",
    "plt.title(\"各年の支出金額の移動平均\")\n",
    "plt.xlabel(\"年\")\n",
    "plt.ylabel(\"支出金額（円）\")\n",
    "plt.ylim(0, 2600)\n",
    "plt.legend(bbox_to_anchor=(1, -0.1), loc='upper right')\n",
    "plt.show()"
   ]
  },
  {
   "cell_type": "markdown",
   "metadata": {},
   "source": [
    "[目次へ戻る](#contents)"
   ]
  },
  {
   "cell_type": "markdown",
   "metadata": {},
   "source": [
    "<a class=\"anchor\" id=\"code04-12\"></a>\n",
    "#### コード4.12 支出金額の変化率の移動平均の計算"
   ]
  },
  {
   "cell_type": "code",
   "execution_count": null,
   "metadata": {},
   "outputs": [],
   "source": [
    "# 支出金額の変化率を計算する\n",
    "raw = rice[\"支出金額\"].pct_change() * 100\n",
    "ma_change = ma_rice.pct_change() * 100\n",
    "ma_change[2018] = None # 変化率の計算で最後の年が 0 になるため無効にする\n",
    "print(ma_change)\n",
    "\n",
    "## 変化率のグラフを描画する\n",
    "plt.plot(raw.index, raw, label=\"生データ\", marker='o')\n",
    "plt.plot(ma_change.index, ma_change, label=\"移動平均\", marker = 'o')\n",
    "plt.title(\"各年の米の支出金額の変化率の移動平均\")\n",
    "plt.xlabel(\"年\")\n",
    "plt.ylabel(\"支出金額の変化率（％）\")\n",
    "plt.legend(bbox_to_anchor=(1, -0.1), loc='upper right')\n",
    "plt.axhline(0, color=\"black\")\n",
    "plt.show()"
   ]
  },
  {
   "cell_type": "markdown",
   "metadata": {},
   "source": [
    "[目次へ戻る](#contents)"
   ]
  },
  {
   "cell_type": "markdown",
   "metadata": {},
   "source": [
    "---"
   ]
  },
  {
   "cell_type": "markdown",
   "metadata": {},
   "source": [
    "<a class=\"anchor\" id=\"section04-3b\"></a>\n",
    "**b. 指数平滑法を用いた予測モデルの構築**"
   ]
  },
  {
   "cell_type": "markdown",
   "metadata": {},
   "source": [
    "<a class=\"anchor\" id=\"code04-13\"></a>\n",
    "#### コード4.13 指数平滑法による予測値を計算する関数"
   ]
  },
  {
   "cell_type": "code",
   "execution_count": null,
   "metadata": {},
   "outputs": [],
   "source": [
    "import pandas as pd\n",
    "import matplotlib.pyplot as plt\n",
    "import japanize_matplotlib\n",
    "import numpy as np\n",
    "\n",
    "def calc_forecasted_value(df, alpha):\n",
    "    \"\"\"\n",
    "    指数平滑法を用いて予測値を計算する関数\n",
    "    \"\"\"\n",
    "    # データフレームのコピーを作成\n",
    "    res = df.copy()\n",
    "    # 時間の列をインデックスに設定\n",
    "    res.index = res[\"調査年\"]\n",
    "    \n",
    "    # 予測値を格納する辞書（キー：調査年）\n",
    "    forecasted = {res.index[0]: np.nan}  # 最初の年は予測できないので NaN\n",
    "    forecasted[res.index[1]] = res.at[res.index[0], \"支出金額\"]  # 最初の年の値を次の年の予測値とする\n",
    "    # 予測値を順次求めていく\n",
    "    for t in range(2, len(res)):\n",
    "        pre_year = res.index[t - 1]\n",
    "        year_t = res.index[t]\n",
    "        forecasted[year_t] = alpha * res.at[pre_year, \"支出金額\"] + (1 - alpha) * forecasted[pre_year]\n",
    "    \n",
    "    # 辞書の値（予測値）を列として追加\n",
    "    res.loc[:, \"予測値\"] = forecasted.values()\n",
    "    # 予測値と実測値から予測誤差を計算\n",
    "    res[\"予測誤差\"] = abs(res[\"支出金額\"] - res[\"予測値\"])\n",
    "    \n",
    "    return res"
   ]
  },
  {
   "cell_type": "markdown",
   "metadata": {},
   "source": [
    "[目次へ戻る](#contents)"
   ]
  },
  {
   "cell_type": "markdown",
   "metadata": {},
   "source": [
    "<a class=\"anchor\" id=\"code04-14\"></a>\n",
    "#### コード4.14 係数 $ \\alpha $ ごとの予測誤差の合計値の計算"
   ]
  },
  {
   "cell_type": "code",
   "execution_count": null,
   "metadata": {},
   "outputs": [],
   "source": [
    "# 家計調査年報データを読み込む\n",
    "kakei = pd.read_csv(\"kakei.csv\", encoding=\"Shift_JIS\")\n",
    "\n",
    "# 米の支出金額のみを取り出す\n",
    "rice = kakei[kakei[\"収支分類区分3\"] == \"米\"]\n",
    "\n",
    "# 予測のパラメータ α の候補\n",
    "param_alpha = [0.1, 0.2, 0.3, 0.4, 0.5, 0.6, 0.7, 0.8, 0.9]\n",
    "\n",
    "# パラメータごとの予測誤差の合計の辞書\n",
    "total_error = {}\n",
    "# パラメータを変えながら予測\n",
    "for alpha in param_alpha:\n",
    "    ## 予測値を計算する\n",
    "    rice_f = calc_forecasted_value(rice, alpha)\n",
    "    ## 予測誤差の合計値を計算して辞書へ追加\n",
    "    te = sum(rice_f.loc[rice_f.index[1:], \"予測誤差\"])  # 最初の年は NaN なので除外\n",
    "    total_error[str(alpha)] = te  # αの値を文字列化して辞書のキーとする\n",
    "    \n",
    "    \"\"\"\n",
    "    ## - - この部分のコメントアウトを外すとαごとの予測値のグラフを描画 - -\n",
    "    ## 年ごとの消費支出と予測値を比較するグラフを描画する\n",
    "    ### 元データの描画設定\n",
    "    plt.plot(rice_f.index, rice_f[\"支出金額\"], label=\"実測値\", marker='o')\n",
    "    ### 予測値の描画設定\n",
    "    plt.plot(rice_f.index, rice_f[\"予測値\"], label=\"予測値 (α = \" + str(alpha) + \")\", marker='o')\n",
    "    ### グラフの要素設定\n",
    "    plt.title(\"各年の米の支出金額\")\n",
    "    plt.xlabel(\"年\")\n",
    "    plt.ylabel(\"支出金額（円）\")\n",
    "    plt.ylim(0, 2600)\n",
    "    plt.legend(bbox_to_anchor=(1, -0.1), loc='upper right')\n",
    "    plt.show()\n",
    "    \"\"\"\n",
    "\n",
    "# グラフ描画のために pandas.Series へ変換\n",
    "res = pd.Series(total_error)\n",
    "# パラメータ α ごとの予測誤差を描画\n",
    "plt.plot(res.index, res, marker='o')\n",
    "plt.title(\"パラメーターαごとの実測値と予測値との誤差の合計\")\n",
    "plt.xlabel(\"パラメーターα\")\n",
    "plt.ylabel(\"予測誤差の合計\")\n",
    "plt.ylim(0, max(res) * 1.1)\n",
    "plt.show()"
   ]
  },
  {
   "cell_type": "markdown",
   "metadata": {},
   "source": [
    "[目次へ戻る](#contents)"
   ]
  },
  {
   "cell_type": "markdown",
   "metadata": {},
   "source": [
    "<a class=\"anchor\" id=\"code04-15\"></a>\n",
    "#### コード4.15 次の年の支出金額の予測"
   ]
  },
  {
   "cell_type": "code",
   "execution_count": null,
   "metadata": {},
   "outputs": [],
   "source": [
    "# αを入力して予測値を計算する\n",
    "alpha = float(input(\"予測パラメーターα (0 < α < 1) を入力してください ==> \"))\n",
    "\n",
    "kakei = pd.read_csv(\"kakei.csv\", encoding=\"Shift_JIS\")\n",
    "rice = kakei[kakei[\"収支分類区分3\"] == \"米\"]\n",
    "rice_f = calc_forecasted_value(rice, alpha)\n",
    "\n",
    "# 年ごとの支出金額と予測値を比較するグラフを描画する\n",
    "plt.plot(rice_f.index, rice_f[\"支出金額\"], label=\"実測値\", marker='o')\n",
    "plt.plot(rice_f.index, rice_f[\"予測値\"], label=\"予測値 (α = \" + str(alpha) + \")\", marker='o')\n",
    "## グラフの要素設定\n",
    "plt.title(\"各年の米の支出金額\")\n",
    "plt.xlabel(\"年\")\n",
    "plt.ylabel(\"支出金額（円）\")\n",
    "plt.ylim(0, max(rice_f[\"支出金額\"]) * 1.1)\n",
    "plt.legend(bbox_to_anchor=(1, -0.1), loc='upper right')\n",
    "plt.show()\n",
    "\n",
    "# 年ごとの実測値における絶対誤差の割合（誤差率）を描画する\n",
    "### 元データの描画設定\n",
    "plt.plot(rice_f.index, rice_f[\"予測誤差\"] / rice_f[\"支出金額\"] * 100, marker='o')\n",
    "plt.title(\"各年の予測誤差率\")\n",
    "plt.xlabel(\"年\")\n",
    "plt.ylabel(\"予測誤差率（％）\")\n",
    "plt.show()\n",
    "\n",
    "# 次の年の消費支出を予測する\n",
    "## 最新データの行番号\n",
    "last_year = rice_f.index[-1]\n",
    "## 予測値を計算する\n",
    "forecasted = alpha * rice_f.at[last_year, \"支出金額\"] + (1 - alpha) * rice_f.at[last_year, \"予測値\"]\n",
    "## 計算結果を表示する\n",
    "print(\"α = \" + str(alpha) + \"のとき：\")\n",
    "print(\"2019年の米の消費支出の予測値 = \" + str(forecasted))\n",
    "\n",
    "ans = 1857  # 2019年の実測値\n",
    "print(\"2019年の実測値との誤差 = \" + str(abs(ans - forecasted)))\n",
    "print(\"2019年の実測値との誤差率（%） = \" + str(abs(ans - forecasted) / ans * 100))"
   ]
  },
  {
   "cell_type": "markdown",
   "metadata": {},
   "source": [
    "[目次へ戻る](#contents)"
   ]
  }
 ],
 "metadata": {
  "kernelspec": {
   "display_name": "Python 3",
   "language": "python",
   "name": "python3"
  },
  "language_info": {
   "codemirror_mode": {
    "name": "ipython",
    "version": 3
   },
   "file_extension": ".py",
   "mimetype": "text/x-python",
   "name": "python",
   "nbconvert_exporter": "python",
   "pygments_lexer": "ipython3",
   "version": "3.7.0"
  },
  "toc": {
   "base_numbering": 1,
   "nav_menu": {},
   "number_sections": false,
   "sideBar": true,
   "skip_h1_title": false,
   "title_cell": "Table of Contents",
   "title_sidebar": "Contents",
   "toc_cell": false,
   "toc_position": {},
   "toc_section_display": true,
   "toc_window_display": false
  }
 },
 "nbformat": 4,
 "nbformat_minor": 2
}
