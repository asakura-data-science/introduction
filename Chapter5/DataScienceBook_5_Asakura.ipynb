{
 "cells": [
  {
   "cell_type": "markdown",
   "metadata": {},
   "source": [
    "# 5. より高度な分析2：気温から売り上げを予測する"
   ]
  },
  {
   "cell_type": "code",
   "execution_count": null,
   "metadata": {
    "colab": {
     "base_uri": "https://localhost:8080/",
     "height": 140
    },
    "colab_type": "code",
    "executionInfo": {
     "elapsed": 6944,
     "status": "ok",
     "timestamp": 1599624380613,
     "user": {
      "displayName": "Takayuki Yumoto",
      "photoUrl": "",
      "userId": "00471202843242156872"
     },
     "user_tz": -540
    },
    "id": "EN0zC6gOOQyt",
    "outputId": "b3673786-3636-4e52-9f15-6876210bfcdb"
   },
   "outputs": [],
   "source": [
    "import pandas as pd\n",
    "import numpy as np\n",
    "import matplotlib.pyplot as plt\n",
    "import calendar\n",
    "import japanize_matplotlib\n",
    "import seaborn as sns \n",
    "from sklearn.metrics import r2_score"
   ]
  },
  {
   "cell_type": "markdown",
   "metadata": {},
   "source": [
    "### データの読み込み"
   ]
  },
  {
   "cell_type": "code",
   "execution_count": null,
   "metadata": {
    "colab": {},
    "colab_type": "code",
    "executionInfo": {
     "elapsed": 682,
     "status": "ok",
     "timestamp": 1599624882774,
     "user": {
      "displayName": "Takayuki Yumoto",
      "photoUrl": "",
      "userId": "00471202843242156872"
     },
     "user_tz": -540
    },
    "id": "mjHzwgz5acss"
   },
   "outputs": [],
   "source": [
    "df = pd.read_csv(\"choco_ice.csv\", encoding=\"sjis\")\n",
    "df"
   ]
  },
  {
   "cell_type": "markdown",
   "metadata": {},
   "source": [
    "### コード5.1：線形単回帰"
   ]
  },
  {
   "cell_type": "code",
   "execution_count": null,
   "metadata": {},
   "outputs": [],
   "source": [
    "x_name = '日最高気温の平均(℃)'\n",
    "y_name = 'アイスクリーム・シャーベット【円/日】'\n",
    "\n",
    "x = df[x_name].values\n",
    "y = df[y_name].values\n",
    "a, b = np.polyfit(x, y, deg=1)\n",
    "r2 = r2_score(y, a*x + b)\n",
    "\n",
    "print(f\"y = {a:.4f}x + {b:.4f}\")\n",
    "print(f\"R^2: {r2:.4f}\")"
   ]
  },
  {
   "cell_type": "markdown",
   "metadata": {},
   "source": [
    "### 図5.2：アイスクリームの回帰直線"
   ]
  },
  {
   "cell_type": "code",
   "execution_count": null,
   "metadata": {},
   "outputs": [],
   "source": [
    "plt.scatter(x, y, alpha=0.5)\n",
    "x_minmax = np.array([x.min(), x.max()])\n",
    "y_pred = a * x_minmax + b\n",
    "plt.plot(x_minmax, y_pred, linewidth=2)\n",
    "plt.xlabel(x_name)\n",
    "plt.ylabel(y_name)\n",
    "plt.show()"
   ]
  },
  {
   "cell_type": "markdown",
   "metadata": {},
   "source": [
    "### コード5.2：次数2の単回帰"
   ]
  },
  {
   "cell_type": "code",
   "execution_count": null,
   "metadata": {},
   "outputs": [],
   "source": [
    "x_name = '日最高気温の平均(℃)'\n",
    "y_name = 'アイスクリーム・シャーベット【円/日】'\n",
    "\n",
    "x = df[x_name].values\n",
    "y = df[y_name].values\n",
    "a2, a1, b = np.polyfit(x, y, deg=2)\n",
    "r2 = r2_score(y, a2 * x**2 + a1 * x + b)\n",
    "\n",
    "print(f\"y = {a2:.4f}x^2 + {a1:.4f}x + {b:.4f}\")\n",
    "print(f\"R^2: {r2:.4f}\")"
   ]
  },
  {
   "cell_type": "markdown",
   "metadata": {},
   "source": [
    "### 図5.3：アイスクリームの回帰曲線"
   ]
  },
  {
   "cell_type": "code",
   "execution_count": null,
   "metadata": {},
   "outputs": [],
   "source": [
    "plt.scatter(x, y, alpha=0.5)\n",
    "x_minmax = np.linspace(x.min(), x.max(), 100)\n",
    "y_pred = a2 * x_minmax**2 + a1 * x_minmax + b\n",
    "plt.plot(x_minmax, y_pred, linewidth=2)\n",
    "plt.xlabel(x_name)\n",
    "plt.ylabel(y_name)\n",
    "plt.show()"
   ]
  },
  {
   "cell_type": "markdown",
   "metadata": {},
   "source": [
    "### コード5.3：説明変数が2つの場合の重回帰"
   ]
  },
  {
   "cell_type": "code",
   "execution_count": null,
   "metadata": {
    "colab": {
     "base_uri": "https://localhost:8080/",
     "height": 353
    },
    "colab_type": "code",
    "executionInfo": {
     "elapsed": 1011,
     "status": "ok",
     "timestamp": 1599624935176,
     "user": {
      "displayName": "Takayuki Yumoto",
      "photoUrl": "",
      "userId": "00471202843242156872"
     },
     "user_tz": -540
    },
    "id": "Ps5tW4tcPCYB",
    "outputId": "babdcb56-0977-4eee-ca3a-682d84a1bbff"
   },
   "outputs": [],
   "source": [
    "from sklearn.linear_model import LinearRegression\n",
    "\n",
    "x = df[['日最高気温の平均(℃)', 'feb']].values\n",
    "y = df['チョコレート【円/日】'].values\n",
    "\n",
    "lr = LinearRegression()\n",
    "lr.fit(x, y)\n",
    "a1, a2 = lr.coef_\n",
    "b = lr.intercept_\n",
    "r2 = r2_score(y, a1 * x[:,0] + b + a2 * x[:,1])\n",
    "\n",
    "print(f\"y = {a:.4f}x + {b:.4f}v + {a2:.4f}\")\n",
    "print(f\"R^2: {r2:.4f}\")"
   ]
  },
  {
   "cell_type": "markdown",
   "metadata": {},
   "source": [
    "### 図5.4：ダミー変数を導入したチョコレートの回帰直線"
   ]
  },
  {
   "cell_type": "code",
   "execution_count": null,
   "metadata": {
    "colab": {
     "base_uri": "https://localhost:8080/",
     "height": 353
    },
    "colab_type": "code",
    "executionInfo": {
     "elapsed": 1035,
     "status": "ok",
     "timestamp": 1599626109330,
     "user": {
      "displayName": "Takayuki Yumoto",
      "photoUrl": "",
      "userId": "00471202843242156872"
     },
     "user_tz": -540
    },
    "id": "4_obwVkTHMjU",
    "outputId": "0f46a4f6-5728-4c4f-82b9-58c1e4661882"
   },
   "outputs": [],
   "source": [
    "x_minmax = np.array([x[:,0].min(), x[:,0].max()])\n",
    "y_pred = a1 * x_minmax + b\n",
    "x_name = \"日最高気温の平均(℃)\"\n",
    "y_name = \"チョコレート【円/日】\"\n",
    "ax = df[df.feb==0].plot(kind='scatter', x=x_name, y=y_name, alpha=0.5)\n",
    "df[df.feb==1].plot(kind='scatter', x=x_name, y=y_name, marker='^', ax=ax, alpha=0.5, color=\"orange\")\n",
    "plt.plot(x_minmax, y_pred, linewidth=2)\n",
    "plt.plot(x_minmax, y_pred + a2, linewidth=2, linestyle=\"dashed\", color=\"orange\")\n",
    "plt.show()"
   ]
  }
 ],
 "metadata": {
  "colab": {
   "name": "regression.ipynb",
   "provenance": []
  },
  "kernelspec": {
   "display_name": "Python 3",
   "language": "python",
   "name": "python3"
  },
  "language_info": {
   "codemirror_mode": {
    "name": "ipython",
    "version": 3
   },
   "file_extension": ".py",
   "mimetype": "text/x-python",
   "name": "python",
   "nbconvert_exporter": "python",
   "pygments_lexer": "ipython3",
   "version": "3.7.0"
  },
  "toc": {
   "base_numbering": 1,
   "nav_menu": {},
   "number_sections": true,
   "sideBar": true,
   "skip_h1_title": false,
   "title_cell": "Table of Contents",
   "title_sidebar": "Contents",
   "toc_cell": false,
   "toc_position": {},
   "toc_section_display": true,
   "toc_window_display": false
  }
 },
 "nbformat": 4,
 "nbformat_minor": 4
}
