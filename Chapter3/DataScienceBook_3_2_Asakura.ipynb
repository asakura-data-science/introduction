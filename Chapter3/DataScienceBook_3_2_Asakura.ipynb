{
 "cells": [
  {
   "cell_type": "markdown",
   "metadata": {
    "id": "BJ-RV3TmtQzp"
   },
   "source": [
    "# 3.2 相関係数"
   ]
  },
  {
   "cell_type": "markdown",
   "metadata": {
    "id": "c8ZjmLVhtVl5"
   },
   "source": [
    "## 本文のコード例を実行してみる"
   ]
  },
  {
   "cell_type": "code",
   "execution_count": null,
   "metadata": {
    "colab": {
     "base_uri": "https://localhost:8080/"
    },
    "executionInfo": {
     "elapsed": 609,
     "status": "ok",
     "timestamp": 1609736177213,
     "user": {
      "displayName": "Hiroaki Kawashima",
      "photoUrl": "",
      "userId": "09613416971582826931"
     },
     "user_tz": -540
    },
    "id": "m9Y8f0WHrUXT",
    "outputId": "f1653847-c159-4df0-a8c0-5f4c85ad168d"
   },
   "outputs": [],
   "source": [
    "import pandas as pd\n",
    "\n",
    "df = pd.read_csv(\"city-meat.csv\", encoding=\"Shift_JIS\")\n",
    "# print(df)  # データを確認する場合はこの行頭のコメントを外すこと\n",
    "corr_mat = df.corr()\n",
    "print(corr_mat)"
   ]
  },
  {
   "cell_type": "code",
   "execution_count": null,
   "metadata": {
    "colab": {
     "base_uri": "https://localhost:8080/"
    },
    "executionInfo": {
     "elapsed": 715,
     "status": "ok",
     "timestamp": 1609735079164,
     "user": {
      "displayName": "Hiroaki Kawashima",
      "photoUrl": "",
      "userId": "09613416971582826931"
     },
     "user_tz": -540
    },
    "id": "esMCBfmZrdL5",
    "outputId": "7966270a-0b6f-4fb3-ef71-fe7478c0c63f"
   },
   "outputs": [],
   "source": [
    "from scipy import stats\n",
    "\n",
    "math = [80, 46, 30, 47, 72]  # 数学の点数\n",
    "physics = [84, 70, 40, 50, 56]  # 物理の点数\n",
    "\n",
    "corr, _ = stats.pearsonr(math, physics)  # 数学と物理の相関係数\n",
    "print(f\"Pearson correlation = {corr:.2f}\")"
   ]
  },
  {
   "cell_type": "code",
   "execution_count": null,
   "metadata": {
    "colab": {
     "base_uri": "https://localhost:8080/"
    },
    "executionInfo": {
     "elapsed": 671,
     "status": "ok",
     "timestamp": 1609735118056,
     "user": {
      "displayName": "Hiroaki Kawashima",
      "photoUrl": "",
      "userId": "09613416971582826931"
     },
     "user_tz": -540
    },
    "id": "BhCUeKGgr9xr",
    "outputId": "3b1e06e7-6366-46db-e5ab-8f461c0d89b9"
   },
   "outputs": [],
   "source": [
    "corr, _ = stats.pearsonr(df[\"牛肉\"], df[\"豚肉\"])\n",
    "print(f\"Pearson correlation = {corr:.2f}\")"
   ]
  },
  {
   "cell_type": "code",
   "execution_count": null,
   "metadata": {
    "colab": {
     "base_uri": "https://localhost:8080/"
    },
    "executionInfo": {
     "elapsed": 608,
     "status": "ok",
     "timestamp": 1609735172944,
     "user": {
      "displayName": "Hiroaki Kawashima",
      "photoUrl": "",
      "userId": "09613416971582826931"
     },
     "user_tz": -540
    },
    "id": "298t4i5PsFdZ",
    "outputId": "5e0e70a7-83a5-4af2-cfc4-b33b8eff42b3"
   },
   "outputs": [],
   "source": [
    "corr, _ = stats.spearmanr(math, physics)\n",
    "print(f\"Spearman correlation = {corr:.2f}\")"
   ]
  },
  {
   "cell_type": "code",
   "execution_count": null,
   "metadata": {
    "colab": {
     "base_uri": "https://localhost:8080/",
     "height": 1000
    },
    "executionInfo": {
     "elapsed": 4582,
     "status": "ok",
     "timestamp": 1609735363253,
     "user": {
      "displayName": "Hiroaki Kawashima",
      "photoUrl": "",
      "userId": "09613416971582826931"
     },
     "user_tz": -540
    },
    "id": "c6bjUdKisXCp",
    "outputId": "232e2b45-7c10-4d5c-82cc-06536e8c3e16"
   },
   "outputs": [],
   "source": [
    "# import pandas as pd  # 上でimport済み\n",
    "import matplotlib.pyplot as plt\n",
    "import japanize_matplotlib  # 日本語フォントを設定済みであれば不要\n",
    "import seaborn as sns  # seaborn の pairplot を利用する場合\n",
    "\n",
    "df = pd.read_csv(\"city-meat.csv\", encoding=\"Shift_JIS\")\n",
    "\n",
    "pd.plotting.scatter_matrix(df, figsize=(8, 8))  # pandas 利用\n",
    "plt.show()\n",
    "\n",
    "sns.pairplot(df)  # seaborn 利用\n",
    "plt.show()"
   ]
  },
  {
   "cell_type": "markdown",
   "metadata": {
    "id": "ZJTBQVARvBGx"
   },
   "source": [
    "## 章末問題 (2)\n",
    "\n",
    "ここではデータの読み込み方法と，相関係数，散布図の表示例を示す．"
   ]
  },
  {
   "cell_type": "markdown",
   "metadata": {
    "id": "-uCwodrdvrl1"
   },
   "source": [
    "### データの読み込み"
   ]
  },
  {
   "cell_type": "code",
   "execution_count": null,
   "metadata": {
    "colab": {
     "base_uri": "https://localhost:8080/",
     "height": 204
    },
    "executionInfo": {
     "elapsed": 563,
     "status": "ok",
     "timestamp": 1609737223783,
     "user": {
      "displayName": "Hiroaki Kawashima",
      "photoUrl": "",
      "userId": "09613416971582826931"
     },
     "user_tz": -540
    },
    "id": "OrL305-Ls5ok",
    "outputId": "f5adfa04-2557-467e-ae8c-037ecfd93306"
   },
   "outputs": [],
   "source": [
    "df = pd.read_csv(\"sweets-temp.csv\", encoding=\"Shift_JIS\")\n",
    "df.head()  # 確認用に最初の5行を取り出す"
   ]
  },
  {
   "cell_type": "markdown",
   "metadata": {
    "id": "64g4gJ_XvpQw"
   },
   "source": [
    "### 気温とケーキの相関係数を計算する"
   ]
  },
  {
   "cell_type": "code",
   "execution_count": null,
   "metadata": {
    "colab": {
     "base_uri": "https://localhost:8080/"
    },
    "executionInfo": {
     "elapsed": 590,
     "status": "ok",
     "timestamp": 1609737090954,
     "user": {
      "displayName": "Hiroaki Kawashima",
      "photoUrl": "",
      "userId": "09613416971582826931"
     },
     "user_tz": -540
    },
    "id": "q11-V58ZvVlP",
    "outputId": "a613f440-8bfe-4ad9-958e-81707cd25acb"
   },
   "outputs": [],
   "source": [
    "x_name = \"気温\"\n",
    "y_name = \"ケーキ\"\n",
    "corr, _ = stats.pearsonr(df[x_name], df[y_name])\n",
    "print(\"Pearson correlation = {:.2f}\".format(corr))"
   ]
  },
  {
   "cell_type": "markdown",
   "metadata": {
    "id": "L4-zUl8-zjBc"
   },
   "source": [
    "### 気温とケーキの散布図を表示する"
   ]
  },
  {
   "cell_type": "code",
   "execution_count": null,
   "metadata": {
    "colab": {
     "base_uri": "https://localhost:8080/",
     "height": 277
    },
    "executionInfo": {
     "elapsed": 909,
     "status": "ok",
     "timestamp": 1609737092253,
     "user": {
      "displayName": "Hiroaki Kawashima",
      "photoUrl": "",
      "userId": "09613416971582826931"
     },
     "user_tz": -540
    },
    "id": "1r40bmMhyFB_",
    "outputId": "b84e78a2-4023-45f0-f673-39aa528fd36c"
   },
   "outputs": [],
   "source": [
    "df.plot(\"気温\", \"ケーキ\", kind=\"scatter\")\n",
    "\n",
    "# 以下の3行でも同様のプロットが可能\n",
    "# plt.scatter(df[x_name], df[y_name])\n",
    "# plt.xlabel(x_name)\n",
    "# plt.ylabel(y_name)\n",
    "\n",
    "plt.show()"
   ]
  },
  {
   "cell_type": "code",
   "execution_count": null,
   "metadata": {
    "colab": {
     "base_uri": "https://localhost:8080/",
     "height": 255
    },
    "executionInfo": {
     "elapsed": 968,
     "status": "ok",
     "timestamp": 1609737210429,
     "user": {
      "displayName": "Hiroaki Kawashima",
      "photoUrl": "",
      "userId": "09613416971582826931"
     },
     "user_tz": -540
    },
    "id": "b5ooWgY-yVN7",
    "outputId": "285fc640-7ab1-47a5-bc98-76b7dd105038"
   },
   "outputs": [],
   "source": [
    "# （参考）月別に色を付けてみる\n",
    "df.plot(\"気温\", \"ケーキ\", kind=\"scatter\", c=\"月\", cmap=\"Paired\")\n",
    "plt.show()"
   ]
  }
 ],
 "metadata": {
  "colab": {
   "authorship_tag": "ABX9TyPSIxSPzFbJUH90FbuYtQnG",
   "collapsed_sections": [],
   "name": "DataScienceBook_3_2_Asakura.ipynb",
   "provenance": []
  },
  "kernelspec": {
   "display_name": "Python 3",
   "language": "python",
   "name": "python3"
  },
  "language_info": {
   "codemirror_mode": {
    "name": "ipython",
    "version": 3
   },
   "file_extension": ".py",
   "mimetype": "text/x-python",
   "name": "python",
   "nbconvert_exporter": "python",
   "pygments_lexer": "ipython3",
   "version": "3.7.0"
  }
 },
 "nbformat": 4,
 "nbformat_minor": 1
}
