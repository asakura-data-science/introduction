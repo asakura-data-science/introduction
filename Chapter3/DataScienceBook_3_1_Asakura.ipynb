{
 "cells": [
  {
   "cell_type": "markdown",
   "metadata": {},
   "source": [
    "# 3.1 データの相対的な関係"
   ]
  },
  {
   "cell_type": "code",
   "execution_count": null,
   "metadata": {},
   "outputs": [],
   "source": [
    "import pandas as pd\n",
    "\n",
    "df = pd.read_csv(\"births.csv\", index_col=\"都道府県\", encoding=\"Shift_JIS\")\n",
    "print(df)"
   ]
  },
  {
   "cell_type": "code",
   "execution_count": null,
   "metadata": {},
   "outputs": [],
   "source": [
    "std1935 = df[\"1935年\"].std(ddof=0)\n",
    "std2017 = df[\"2017年\"].std(ddof=0)\n",
    "print(f\"1935年の標準偏差：{std1935:.0f}\")\n",
    "print(f\"2017年の標準偏差：{std2017:.0f}\")\n"
   ]
  },
  {
   "cell_type": "code",
   "execution_count": null,
   "metadata": {},
   "outputs": [],
   "source": [
    "df[\"2017年\"].sum()\n"
   ]
  },
  {
   "cell_type": "code",
   "execution_count": null,
   "metadata": {
    "scrolled": true
   },
   "outputs": [],
   "source": [
    "mean1935 = df[\"1935年\"].mean()\n",
    "mean2017 = df[\"2017年\"].mean()\n",
    "print(f\"1935年の平均：{mean1935:.0f}\")\n",
    "print(f\"2017年の平均：{mean2017:.0f}\")\n"
   ]
  },
  {
   "cell_type": "code",
   "execution_count": null,
   "metadata": {},
   "outputs": [],
   "source": [
    "print(f\"1935年の変動係数：{std1935/mean1935:.3f}\")\n",
    "print(f\"2017年の変動係数：{std2017/mean2017:.3f}\")\n"
   ]
  },
  {
   "cell_type": "code",
   "execution_count": null,
   "metadata": {
    "scrolled": true
   },
   "outputs": [],
   "source": [
    "print(df.at[\"兵庫県\", \"1935年\"])\n",
    "print(df.at[\"兵庫県\", \"2017年\"])\n"
   ]
  },
  {
   "cell_type": "code",
   "execution_count": null,
   "metadata": {},
   "outputs": [],
   "source": [
    "mean1935 = df[\"1935年\"].mean()\n",
    "std1935 = df[\"1935年\"].std(ddof=0)"
   ]
  },
  {
   "cell_type": "code",
   "execution_count": null,
   "metadata": {},
   "outputs": [],
   "source": [
    "mean2017 = df[\"2017年\"].mean()\n",
    "std2017 = df[\"2017年\"].std(ddof=0)"
   ]
  },
  {
   "cell_type": "code",
   "execution_count": null,
   "metadata": {
    "scrolled": false
   },
   "outputs": [],
   "source": [
    "x1935_hyogo = df.at[\"兵庫県\", \"1935年\"]\n",
    "z1935_hyogo = (x1935_hyogo - mean1935) / std1935\n",
    "print(f\"1935年の兵庫県の出生数のZスコア：{z1935_hyogo:.2f}\")\n",
    "\n",
    "x2017_hyogo = df.at[\"兵庫県\", \"2017年\"]\n",
    "z2017_hyogo = (x2017_hyogo - mean2017) / std2017\n",
    "print(f\"2017年の兵庫県の出生数のZスコア：{z2017_hyogo:.2f}\")"
   ]
  },
  {
   "cell_type": "code",
   "execution_count": null,
   "metadata": {
    "scrolled": true
   },
   "outputs": [],
   "source": [
    "x1935_kanagawa = df.at[\"神奈川県\", \"1935年\"]\n",
    "z1935_kanagawa = (x1935_kanagawa - mean1935) / std1935\n",
    "print(f\"1935年の神奈川県の出生数のZスコア：{z1935_kanagawa:.2f}\")\n",
    "\n",
    "x2017_kanagawa = df.at[\"神奈川県\", \"2017年\"]\n",
    "z2017_kanagawa = (x2017_kanagawa - mean2017) / std2017\n",
    "print(f\"2017年の神奈川県の出生数のZスコア：{z2017_kanagawa:.2f}\")"
   ]
  },
  {
   "cell_type": "code",
   "execution_count": null,
   "metadata": {},
   "outputs": [],
   "source": [
    "t1935_hyogo = z1935_hyogo * 10 + 50\n",
    "print(f\"1935年の兵庫県の出生数の偏差値：{t1935_hyogo:.1f}\")\n",
    "\n",
    "t2017_hyogo = z2017_hyogo * 10 + 50\n",
    "print(f\"2017年の兵庫県の出生数の偏差値：{t2017_hyogo:.1f}\")"
   ]
  },
  {
   "cell_type": "code",
   "execution_count": null,
   "metadata": {
    "scrolled": true
   },
   "outputs": [],
   "source": [
    "df.rank(pct=True).at[\"東京都\", \"2017年\"]"
   ]
  }
 ],
 "metadata": {
  "kernelspec": {
   "display_name": "Python 3",
   "language": "python",
   "name": "python3"
  },
  "language_info": {
   "codemirror_mode": {
    "name": "ipython",
    "version": 3
   },
   "file_extension": ".py",
   "mimetype": "text/x-python",
   "name": "python",
   "nbconvert_exporter": "python",
   "pygments_lexer": "ipython3",
   "version": "3.7.0"
  }
 },
 "nbformat": 4,
 "nbformat_minor": 2
}
